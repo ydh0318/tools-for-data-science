{
 "cells": [
  {
   "cell_type": "markdown",
   "metadata": {},
   "source": [
    "# Data Science Final Project\n",
    "## Introduction  \n",
    "This notebook showcases the completion of the Data Science final project.  \n",
    "\n",
    "## Data Science Languages  \n",
    "- Python  \n",
    "- R  \n",
    "- SQL  \n",
    "- Julia  \n",
    "\n",
    "## Data Science Libraries  \n",
    "- NumPy  \n",
    "- Pandas  \n",
    "- Matplotlib  \n",
    "- Scikit-learn  \n",
    "- TensorFlow  \n",
    "\n",
    "## Data Science Tools  \n",
    "| Tool          | Description                     |  \n",
    "|---------------|---------------------------------|  \n",
    "| Jupyter       | Interactive notebook            |  \n",
    "| RStudio       | IDE for R                       |  \n",
    "| Apache Spark  | Big data processing framework   |  \n",
    "\n",
    "## Arithmetic Expression Example  \n",
    "An example of adding and multiplying numbers:  "
   ]
  },
  {
   "cell_type": "code",
   "execution_count": 1,
   "metadata": {},
   "outputs": [
    {
     "data": {
      "text/plain": [
       "17"
      ]
     },
     "execution_count": 1,
     "metadata": {},
     "output_type": "execute_result"
    }
   ],
   "source": [
    "# Multiply and Add example\n",
    "result = (5 * 3) + 2\n",
    "result"
   ]
  },
  {
   "cell_type": "code",
   "execution_count": 2,
   "metadata": {},
   "outputs": [
    {
     "data": {
      "text/plain": [
       "2.0"
      ]
     },
     "execution_count": 2,
     "metadata": {},
     "output_type": "execute_result"
    }
   ],
   "source": [
    "# Convert minutes to hours\n",
    "minutes = 120\n",
    "hours = minutes / 60\n",
    "hours"
   ]
  },
  {
   "cell_type": "markdown",
   "metadata": {},
   "source": [
    "## Goals  \n",
    "- Complete the Data Science final project.  \n",
    "- Share the notebook publicly on GitHub.  \n",
    "- Collaborate effectively with peers.  \n",
    "\n",
    "## Author  \n",
    "Name: Ydh "
   ]
  }
 ],
 "metadata": {
  "kernelspec": {
   "display_name": "Python 3",
   "language": "python",
   "name": "python3"
  },
  "language_info": {
   "codemirror_mode": {
    "name": "ipython",
    "version": 3
   },
   "file_extension": ".py",
   "mimetype": "text/x-python",
   "name": "python",
   "nbconvert_exporter": "python",
   "pygments_lexer": "ipython3",
   "version": "3.12.4"
  }
 },
 "nbformat": 4,
 "nbformat_minor": 2
}
